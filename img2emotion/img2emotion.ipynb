{
 "cells": [
  {
   "cell_type": "markdown",
   "metadata": {},
   "source": [
    "# Img2Emotion"
   ]
  },
  {
   "cell_type": "markdown",
   "metadata": {},
   "source": [
    "This is a second attempt at implementing a model that takes as input an image of a face and returns the current gesture or emotion\n",
    "\n"
   ]
  },
  {
   "cell_type": "code",
   "execution_count": 1,
   "metadata": {},
   "outputs": [],
   "source": [
    "import numpy as np\n",
    "from PIL import Image\n",
    "import os\n",
    "import shutil\n",
    "import torch, torchvision\n",
    "\n",
    "%matplotlib inline"
   ]
  },
  {
   "cell_type": "markdown",
   "metadata": {},
   "source": [
    "### Convert the data to usable data"
   ]
  },
  {
   "cell_type": "markdown",
   "metadata": {},
   "source": [
    "The data was stored initially on a usb as multiple csv files. This script will read the data and transform it into label-folder style"
   ]
  },
  {
   "cell_type": "code",
   "execution_count": 2,
   "metadata": {},
   "outputs": [],
   "source": [
    "path = '/Volumes/JON SNOW' #USB path, where csv files live\n",
    "train_path = 'train'\n",
    "expected_size = 4096\n",
    "x_list = []\n",
    "y_list = []\n",
    "\n",
    "# First check if train folder exists, if so, terminate.\n",
    "if os.path.exists(train_path) == False:\n",
    "\n",
    "    # Get all the files in which the data is stored\n",
    "    # This files have the format x_data0.csv, x_data1.csv, y_data0.csv, y_data1.csv, etc\n",
    "    for i in os.listdir(path):\n",
    "        if os.path.isfile(os.path.join(path, i)):\n",
    "            if 'x_data' in i:\n",
    "                x_list.append(i)\n",
    "            if 'y_data' in i:\n",
    "                y_list.append(i)\n",
    "\n",
    "    x_list = sorted(x_list)\n",
    "    y_list = sorted(y_list)\n",
    "\n",
    "    print(x_list)\n",
    "    print(y_list)\n",
    "\n",
    "    for f_i in range(len(x_list)):\n",
    "        print(f\"Reading file n.{f_i}: {x_list[f_i]}\")\n",
    "        # Iterate over all files\n",
    "        x_path = os.path.join(path, x_list[f_i])\n",
    "        y_path = os.path.join(path, y_list[f_i])\n",
    "\n",
    "        x = open(x_path)\n",
    "        y = open(y_path)\n",
    "\n",
    "        success = None\n",
    "        while success is None:\n",
    "            try:\n",
    "                data = x.readline()\n",
    "                label = y.readline()\n",
    "\n",
    "                success = True\n",
    "            except:\n",
    "                pass\n",
    "\n",
    "        while data:\n",
    "            data = data.strip() # Remove newline\n",
    "\n",
    "            label = label.strip() # Remove newline\n",
    "            array = np.fromstring(data, sep=\",\")\n",
    "\n",
    "            # Check if data is corrupted\n",
    "            if array.shape[0] == expected_size:\n",
    "                array = array.reshape((64,64))\n",
    "                im = Image.fromarray(array).convert(\"L\") # Convert to grayscale img\n",
    "\n",
    "                label = os.path.join(train_path, label)\n",
    "                # Create label directory if doesn't exists\n",
    "                if not os.path.exists(label):\n",
    "                    os.makedirs(label)\n",
    "\n",
    "                # Get number of elements in label directory to assign name to next image\n",
    "                _, _, files = next(os.walk(label))\n",
    "                im_name = str(len(files))+'.jpeg'\n",
    "\n",
    "                # Store image\n",
    "                im.save(os.path.join(label, im_name))\n",
    "\n",
    "            # read next line for data and label\n",
    "            success = None\n",
    "            while success is None:\n",
    "                try:\n",
    "                    data = x.readline()\n",
    "                    label = y.readline()\n",
    "\n",
    "                    success = True\n",
    "                except:\n",
    "                    pass\n",
    "\n",
    "        x.close()\n",
    "        y.close()\n",
    "    print(\"Completed!\")"
   ]
  },
  {
   "cell_type": "markdown",
   "metadata": {},
   "source": [
    "### Split the dataset"
   ]
  },
  {
   "cell_type": "markdown",
   "metadata": {},
   "source": [
    "Once the data is correctly organized, move a percentage of it into testing  dataset"
   ]
  },
  {
   "cell_type": "code",
   "execution_count": 3,
   "metadata": {},
   "outputs": [],
   "source": [
    "test_path = \"test\"\n",
    "percentage = 0.1\n",
    "\n",
    "if os.path.exists(test_path) == False:\n",
    "    for i in os.listdir(train_path):\n",
    "        if not os.path.exists(os.path.join(test_path, i)):\n",
    "            os.makedirs(os.path.join(test_path, i))\n",
    "\n",
    "        files =  sorted(os.listdir(os.path.join(train_path, i)))\n",
    "        size = int(len(files)*percentage)\n",
    "        rand_files = np.random.choice(files, size, replace=False)\n",
    "        for file in rand_files:\n",
    "            shutil.move(os.path.join(train_path, i, file), os.path.join(test_path, i, file))"
   ]
  },
  {
   "cell_type": "markdown",
   "metadata": {},
   "source": [
    "### Get the Data:"
   ]
  },
  {
   "cell_type": "markdown",
   "metadata": {},
   "source": [
    "Data is stored in the folders `./train` and `./test`, with folder containing images, and the folder names are their labels"
   ]
  },
  {
   "cell_type": "code",
   "execution_count": 276,
   "metadata": {},
   "outputs": [],
   "source": [
    "from torchvision import transforms, datasets\n",
    "\n",
    "transform = transforms.Compose([\n",
    "                                transforms.RandomHorizontalFlip(),\n",
    "                                transforms.RandomPerspective(),\n",
    "                                transforms.RandomRotation(90),\n",
    "                                transforms.ToTensor(),\n",
    "                                transforms.Normalize((0.5,),(0.5,))\n",
    "                                ])\n",
    "\n",
    "test_transform = transforms.Compose([\n",
    "                                    transforms.ToTensor(),\n",
    "                                    transforms.Normalize((0.5,),(0.5,))\n",
    "                                    ])\n",
    "\n",
    "trainset = datasets.ImageFolder(root='./train', transform=transform)\n",
    "trainloader = torch.utils.data.DataLoader(trainset, batch_size=64, shuffle=True)\n",
    "\n",
    "testset = datasets.ImageFolder(root='./test', transform=test_transform)\n",
    "testloader = torch.utils.data.DataLoader(testset, batch_size=64, shuffle=True)"
   ]
  },
  {
   "cell_type": "code",
   "execution_count": 277,
   "metadata": {},
   "outputs": [
    {
     "name": "stdout",
     "output_type": "stream",
     "text": [
      "torch.Size([64, 3, 64, 64])\n"
     ]
    }
   ],
   "source": [
    "data, labels = next(iter(trainloader))\n",
    "print(data.shape)"
   ]
  },
  {
   "cell_type": "markdown",
   "metadata": {},
   "source": [
    "### Build the model"
   ]
  },
  {
   "cell_type": "markdown",
   "metadata": {},
   "source": [
    "Since this are images, the model will be based on convolutions, and a final densely connected layer"
   ]
  },
  {
   "cell_type": "code",
   "execution_count": 278,
   "metadata": {},
   "outputs": [],
   "source": [
    "from torch import nn, optim\n",
    "import torch.nn.functional as F\n",
    "\n",
    "class FaceClassifier(nn.Module):\n",
    "    def __init__(self, p=0.2):\n",
    "        super().__init__()\n",
    "        \n",
    "        # Input shape is (3,64,64)\n",
    "        self.conv1 = nn.Conv2d(3, 6, kernel_size=5, stride=1, padding=2)\n",
    "        self.pool1 = nn.MaxPool2d(kernel_size=2, stride=2, padding=0)\n",
    "        # Output shape is (6,32,32)\n",
    "        \n",
    "        # Input shape is (6,32,32)\n",
    "        self.conv2 = nn.Conv2d(6, 12, kernel_size=5, stride=1, padding=2)\n",
    "        self.pool2 = nn.MaxPool2d(kernel_size=2, stride=2, padding=0)\n",
    "        # Output shape is (12, 16, 16)\n",
    "        \n",
    "        self.fc1 = nn.Linear(12 * 16 * 16, 64)\n",
    "        \n",
    "        self.fc2 = nn.Linear(64, 6)\n",
    "        \n",
    "        # Add Dropout\n",
    "        self.dropout = nn.Dropout(p=p)\n",
    "        \n",
    "    def forward(self, x):\n",
    "        # Compute activation of first conv layer\n",
    "        x = self.dropout(F.relu(self.conv1(x)))\n",
    "        x = self.pool1(x)\n",
    "\n",
    "        x = self.dropout(F.relu(self.conv2(x)))\n",
    "        x = self.pool2(x)\n",
    "        \n",
    "        # reshape the data for fc layers\n",
    "        x = x.view(-1, 12 * 16 * 16)\n",
    "        \n",
    "        x = self.dropout(F.relu(self.fc1(x)))\n",
    "        \n",
    "        # Get the log softmax output\n",
    "        x = F.log_softmax(self.fc2(x), dim=1)\n",
    "        \n",
    "        return x\n",
    "        \n",
    "        "
   ]
  },
  {
   "cell_type": "markdown",
   "metadata": {},
   "source": [
    "### Train and save the model"
   ]
  },
  {
   "cell_type": "markdown",
   "metadata": {},
   "source": [
    "Train for 30 epochs and store the model. If a checkpoint exists, then don't train"
   ]
  },
  {
   "cell_type": "code",
   "execution_count": 340,
   "metadata": {},
   "outputs": [],
   "source": [
    "model = FaceClassifier(0.2)"
   ]
  },
  {
   "cell_type": "code",
   "execution_count": 342,
   "metadata": {},
   "outputs": [
    {
     "name": "stdout",
     "output_type": "stream",
     "text": [
      "Epoch: 0/10 | Loss: 2.759 | Accuracy: 20.312%\n",
      "Epoch: 0/10 | Loss: 2.752 | Accuracy: 17.188%\n",
      "Epoch: 0/10 | Loss: 2.749 | Accuracy: 32.812%\n",
      "Epoch: 0/10 | Loss: 2.743 | Accuracy: 28.125%\n",
      "Epoch: 0/10 | Loss: 2.736 | Accuracy: 29.688%\n",
      "Epoch: 0/10 | Loss: 2.734 | Accuracy: 35.938%\n",
      "Epoch: 0/10 | Loss: 2.727 | Accuracy: 32.812%\n",
      "Epoch: 0/10 | Loss: 2.721 | Accuracy: 46.875%\n",
      "Epoch: 0/10 | Loss: 2.711 | Accuracy: 32.812%\n",
      "Epoch: 0/10 | Loss: 2.706 | Accuracy: 34.375%\n",
      "Epoch: 0/10 | Loss: 2.704 | Accuracy: 39.062%\n",
      "Epoch: 0/10 | Loss: 2.698 | Accuracy: 37.5%\n",
      "Epoch: 0/10 | Loss: 2.692 | Accuracy: 31.25%\n",
      "Epoch: 0/10 | Loss: 2.686 | Accuracy: 40.625%\n",
      "Epoch: 0/10 | Loss: 2.682 | Accuracy: 42.188%\n",
      "Epoch: 1/10 | Loss: 1.019 | Accuracy: 48.438%\n",
      "Epoch: 1/10 | Loss: 1.109 | Accuracy: 31.25%\n",
      "Epoch: 1/10 | Loss: 1.192 | Accuracy: 43.75%\n",
      "Epoch: 1/10 | Loss: 1.265 | Accuracy: 31.25%\n",
      "Epoch: 1/10 | Loss: 1.329 | Accuracy: 31.25%\n",
      "Epoch: 1/10 | Loss: 1.389 | Accuracy: 43.75%\n",
      "Epoch: 1/10 | Loss: 1.444 | Accuracy: 48.438%\n",
      "Epoch: 1/10 | Loss: 1.493 | Accuracy: 43.75%\n",
      "Epoch: 1/10 | Loss: 1.534 | Accuracy: 37.5%\n",
      "Epoch: 1/10 | Loss: 1.576 | Accuracy: 40.625%\n",
      "Epoch: 1/10 | Loss: 1.616 | Accuracy: 54.688%\n",
      "Epoch: 1/10 | Loss: 1.65 | Accuracy: 45.312%\n",
      "Epoch: 1/10 | Loss: 1.682 | Accuracy: 39.062%\n",
      "Epoch: 1/10 | Loss: 1.711 | Accuracy: 45.312%\n",
      "Epoch: 1/10 | Loss: 1.739 | Accuracy: 51.562%\n",
      "Epoch: 1/10 | Loss: 1.766 | Accuracy: 54.688%\n",
      "Epoch: 2/10 | Loss: 1.019 | Accuracy: 42.188%\n",
      "Epoch: 2/10 | Loss: 1.066 | Accuracy: 48.438%\n",
      "Epoch: 2/10 | Loss: 1.107 | Accuracy: 50.0%\n",
      "Epoch: 2/10 | Loss: 1.147 | Accuracy: 56.25%\n",
      "Epoch: 2/10 | Loss: 1.184 | Accuracy: 51.562%\n",
      "Epoch: 2/10 | Loss: 1.221 | Accuracy: 46.875%\n",
      "Epoch: 2/10 | Loss: 1.255 | Accuracy: 43.75%\n",
      "Epoch: 2/10 | Loss: 1.287 | Accuracy: 42.188%\n",
      "Epoch: 2/10 | Loss: 1.319 | Accuracy: 42.188%\n",
      "Epoch: 2/10 | Loss: 1.346 | Accuracy: 42.188%\n",
      "Epoch: 2/10 | Loss: 1.373 | Accuracy: 53.125%\n",
      "Epoch: 2/10 | Loss: 1.4 | Accuracy: 57.812%\n",
      "Epoch: 2/10 | Loss: 1.424 | Accuracy: 56.25%\n",
      "Epoch: 2/10 | Loss: 1.447 | Accuracy: 50.0%\n",
      "Epoch: 2/10 | Loss: 1.469 | Accuracy: 48.438%\n",
      "Epoch: 2/10 | Loss: 1.491 | Accuracy: 54.688%\n",
      "Epoch: 3/10 | Loss: 1.023 | Accuracy: 34.375%\n",
      "Epoch: 3/10 | Loss: 1.057 | Accuracy: 50.0%\n",
      "Epoch: 3/10 | Loss: 1.089 | Accuracy: 39.062%\n",
      "Epoch: 3/10 | Loss: 1.118 | Accuracy: 53.125%\n",
      "Epoch: 3/10 | Loss: 1.146 | Accuracy: 46.875%\n",
      "Epoch: 3/10 | Loss: 1.172 | Accuracy: 45.312%\n",
      "Epoch: 3/10 | Loss: 1.196 | Accuracy: 35.938%\n",
      "Epoch: 3/10 | Loss: 1.219 | Accuracy: 46.875%\n",
      "Epoch: 3/10 | Loss: 1.243 | Accuracy: 46.875%\n",
      "Epoch: 3/10 | Loss: 1.264 | Accuracy: 51.562%\n",
      "Epoch: 3/10 | Loss: 1.285 | Accuracy: 60.938%\n",
      "Epoch: 3/10 | Loss: 1.304 | Accuracy: 50.0%\n",
      "Epoch: 3/10 | Loss: 1.322 | Accuracy: 56.25%\n",
      "Epoch: 3/10 | Loss: 1.341 | Accuracy: 43.75%\n",
      "Epoch: 3/10 | Loss: 1.359 | Accuracy: 46.875%\n",
      "Epoch: 3/10 | Loss: 1.376 | Accuracy: 35.938%\n",
      "Epoch: 4/10 | Loss: 1.018 | Accuracy: 48.438%\n",
      "Epoch: 4/10 | Loss: 1.04 | Accuracy: 53.125%\n",
      "Epoch: 4/10 | Loss: 1.061 | Accuracy: 34.375%\n",
      "Epoch: 4/10 | Loss: 1.082 | Accuracy: 50.0%\n",
      "Epoch: 4/10 | Loss: 1.102 | Accuracy: 62.5%\n",
      "Epoch: 4/10 | Loss: 1.12 | Accuracy: 59.375%\n",
      "Epoch: 4/10 | Loss: 1.138 | Accuracy: 43.75%\n",
      "Epoch: 4/10 | Loss: 1.157 | Accuracy: 59.375%\n",
      "Epoch: 4/10 | Loss: 1.175 | Accuracy: 54.688%\n",
      "Epoch: 4/10 | Loss: 1.191 | Accuracy: 54.688%\n",
      "Epoch: 4/10 | Loss: 1.207 | Accuracy: 48.438%\n",
      "Epoch: 4/10 | Loss: 1.223 | Accuracy: 56.25%\n",
      "Epoch: 4/10 | Loss: 1.238 | Accuracy: 46.875%\n",
      "Epoch: 4/10 | Loss: 1.253 | Accuracy: 43.75%\n",
      "Epoch: 4/10 | Loss: 1.267 | Accuracy: 53.125%\n",
      "Epoch: 4/10 | Loss: 1.281 | Accuracy: 54.688%\n",
      "Epoch: 5/10 | Loss: 1.017 | Accuracy: 53.125%\n",
      "Epoch: 5/10 | Loss: 1.035 | Accuracy: 65.625%\n",
      "Epoch: 5/10 | Loss: 1.051 | Accuracy: 56.25%\n",
      "Epoch: 5/10 | Loss: 1.067 | Accuracy: 48.438%\n",
      "Epoch: 5/10 | Loss: 1.082 | Accuracy: 46.875%\n",
      "Epoch: 5/10 | Loss: 1.097 | Accuracy: 54.688%\n",
      "Epoch: 5/10 | Loss: 1.111 | Accuracy: 70.312%\n",
      "Epoch: 5/10 | Loss: 1.126 | Accuracy: 64.062%\n",
      "Epoch: 5/10 | Loss: 1.139 | Accuracy: 56.25%\n",
      "Epoch: 5/10 | Loss: 1.153 | Accuracy: 48.438%\n",
      "Epoch: 5/10 | Loss: 1.166 | Accuracy: 56.25%\n",
      "Epoch: 5/10 | Loss: 1.179 | Accuracy: 51.562%\n",
      "Epoch: 5/10 | Loss: 1.191 | Accuracy: 60.938%\n",
      "Epoch: 5/10 | Loss: 1.203 | Accuracy: 60.938%\n",
      "Epoch: 5/10 | Loss: 1.216 | Accuracy: 54.688%\n",
      "Epoch: 6/10 | Loss: 1.003 | Accuracy: 62.5%\n",
      "Epoch: 6/10 | Loss: 1.017 | Accuracy: 59.375%\n",
      "Epoch: 6/10 | Loss: 1.031 | Accuracy: 51.562%\n",
      "Epoch: 6/10 | Loss: 1.044 | Accuracy: 67.188%\n",
      "Epoch: 6/10 | Loss: 1.056 | Accuracy: 56.25%\n",
      "Epoch: 6/10 | Loss: 1.069 | Accuracy: 60.938%\n",
      "Epoch: 6/10 | Loss: 1.081 | Accuracy: 57.812%\n",
      "Epoch: 6/10 | Loss: 1.094 | Accuracy: 59.375%\n",
      "Epoch: 6/10 | Loss: 1.106 | Accuracy: 70.312%\n",
      "Epoch: 6/10 | Loss: 1.117 | Accuracy: 59.375%\n",
      "Epoch: 6/10 | Loss: 1.128 | Accuracy: 60.938%\n",
      "Epoch: 6/10 | Loss: 1.138 | Accuracy: 67.188%\n",
      "Epoch: 6/10 | Loss: 1.149 | Accuracy: 68.75%\n",
      "Epoch: 6/10 | Loss: 1.16 | Accuracy: 64.062%\n",
      "Epoch: 6/10 | Loss: 1.17 | Accuracy: 54.688%\n",
      "Epoch: 6/10 | Loss: 1.18 | Accuracy: 68.75%\n",
      "Epoch: 7/10 | Loss: 1.005 | Accuracy: 51.562%\n",
      "Epoch: 7/10 | Loss: 1.017 | Accuracy: 51.562%\n",
      "Epoch: 7/10 | Loss: 1.028 | Accuracy: 50.0%\n",
      "Epoch: 7/10 | Loss: 1.039 | Accuracy: 62.5%\n",
      "Epoch: 7/10 | Loss: 1.05 | Accuracy: 68.75%\n",
      "Epoch: 7/10 | Loss: 1.06 | Accuracy: 68.75%\n",
      "Epoch: 7/10 | Loss: 1.07 | Accuracy: 59.375%\n",
      "Epoch: 7/10 | Loss: 1.08 | Accuracy: 68.75%\n",
      "Epoch: 7/10 | Loss: 1.09 | Accuracy: 43.75%\n",
      "Epoch: 7/10 | Loss: 1.1 | Accuracy: 62.5%\n",
      "Epoch: 7/10 | Loss: 1.109 | Accuracy: 51.562%\n",
      "Epoch: 7/10 | Loss: 1.118 | Accuracy: 56.25%\n",
      "Epoch: 7/10 | Loss: 1.127 | Accuracy: 57.812%\n",
      "Epoch: 7/10 | Loss: 1.136 | Accuracy: 62.5%\n",
      "Epoch: 7/10 | Loss: 1.145 | Accuracy: 68.75%\n",
      "Epoch: 7/10 | Loss: 1.154 | Accuracy: 57.812%\n",
      "Epoch: 8/10 | Loss: 1.006 | Accuracy: 54.688%\n",
      "Epoch: 8/10 | Loss: 1.017 | Accuracy: 67.188%\n",
      "Epoch: 8/10 | Loss: 1.027 | Accuracy: 68.75%\n",
      "Epoch: 8/10 | Loss: 1.036 | Accuracy: 64.062%\n",
      "Epoch: 8/10 | Loss: 1.046 | Accuracy: 54.688%\n",
      "Epoch: 8/10 | Loss: 1.055 | Accuracy: 56.25%\n",
      "Epoch: 8/10 | Loss: 1.064 | Accuracy: 62.5%\n",
      "Epoch: 8/10 | Loss: 1.073 | Accuracy: 64.062%\n",
      "Epoch: 8/10 | Loss: 1.082 | Accuracy: 62.5%\n",
      "Epoch: 8/10 | Loss: 1.09 | Accuracy: 75.0%\n",
      "Epoch: 8/10 | Loss: 1.099 | Accuracy: 57.812%\n",
      "Epoch: 8/10 | Loss: 1.107 | Accuracy: 64.062%\n",
      "Epoch: 8/10 | Loss: 1.115 | Accuracy: 64.062%\n",
      "Epoch: 8/10 | Loss: 1.123 | Accuracy: 64.062%\n",
      "Epoch: 8/10 | Loss: 1.131 | Accuracy: 57.812%\n",
      "Epoch: 8/10 | Loss: 1.139 | Accuracy: 67.188%\n",
      "Epoch: 9/10 | Loss: 1.007 | Accuracy: 67.188%\n",
      "Epoch: 9/10 | Loss: 1.015 | Accuracy: 64.062%\n",
      "Epoch: 9/10 | Loss: 1.024 | Accuracy: 67.188%\n",
      "Epoch: 9/10 | Loss: 1.032 | Accuracy: 65.625%\n",
      "Epoch: 9/10 | Loss: 1.04 | Accuracy: 64.062%\n",
      "Epoch: 9/10 | Loss: 1.047 | Accuracy: 64.062%\n",
      "Epoch: 9/10 | Loss: 1.055 | Accuracy: 76.562%\n",
      "Epoch: 9/10 | Loss: 1.063 | Accuracy: 64.062%\n",
      "Epoch: 9/10 | Loss: 1.07 | Accuracy: 50.0%\n",
      "Epoch: 9/10 | Loss: 1.077 | Accuracy: 65.625%\n",
      "Epoch: 9/10 | Loss: 1.085 | Accuracy: 71.875%\n",
      "Epoch: 9/10 | Loss: 1.092 | Accuracy: 60.938%\n",
      "Epoch: 9/10 | Loss: 1.1 | Accuracy: 54.688%\n",
      "Epoch: 9/10 | Loss: 1.107 | Accuracy: 56.25%\n",
      "Epoch: 9/10 | Loss: 1.115 | Accuracy: 64.062%\n",
      "Epoch: 9/10 | Loss: 1.122 | Accuracy: 64.062%\n"
     ]
    }
   ],
   "source": [
    "retrain = True # Whether we want to retrain a model even if a checkpoint exists\n",
    "\n",
    "if os.path.exists('checkpoint.pth') == False or retrain:\n",
    "    \n",
    "    criterion = nn.NLLLoss()\n",
    "    optimizer = optim.Adam(model.parameters(), lr=0.003)\n",
    "\n",
    "    epochs = 10\n",
    "    steps = 0\n",
    "    train_losses, test_losses = [],[]\n",
    "\n",
    "    for e in range(epochs):\n",
    "        running_loss = 0\n",
    "        for images, labels in trainloader:\n",
    "            model.train()\n",
    "\n",
    "            optimizer.zero_grad()\n",
    "\n",
    "            log_ps = model(images)\n",
    "            loss = criterion(log_ps, labels)\n",
    "            loss.backward()\n",
    "            optimizer.step()\n",
    "\n",
    "            running_loss += loss.item()\n",
    "            steps += 1\n",
    "            \n",
    "            if steps % 10 == 0:\n",
    "                model.eval()\n",
    "                with torch.no_grad():\n",
    "                    images, labels = next(iter(testloader))\n",
    "                    ps = torch.exp(model(images))\n",
    "                    top_p, top_class = ps.topk(1, dim=1)\n",
    "                    equals = top_class == labels.view(*top_class.shape)\n",
    "                    accuracy = torch.mean(equals.type(torch.FloatTensor))\n",
    "                print(f'Epoch: {e}/{epochs} | Loss: {np.round(running_loss/steps+1, 3)} | Accuracy: {np.round(accuracy.item()*100, 3)}%')\n",
    "                torch.save(model.state_dict(), 'checkpoint.pth')"
   ]
  },
  {
   "cell_type": "markdown",
   "metadata": {},
   "source": [
    "### Restore the model"
   ]
  },
  {
   "cell_type": "code",
   "execution_count": 349,
   "metadata": {},
   "outputs": [
    {
     "data": {
      "text/plain": [
       "FaceClassifier(\n",
       "  (conv1): Conv2d(3, 6, kernel_size=(5, 5), stride=(1, 1), padding=(2, 2))\n",
       "  (pool1): MaxPool2d(kernel_size=2, stride=2, padding=0, dilation=1, ceil_mode=False)\n",
       "  (conv2): Conv2d(6, 12, kernel_size=(5, 5), stride=(1, 1), padding=(2, 2))\n",
       "  (pool2): MaxPool2d(kernel_size=2, stride=2, padding=0, dilation=1, ceil_mode=False)\n",
       "  (fc1): Linear(in_features=3072, out_features=64, bias=True)\n",
       "  (fc2): Linear(in_features=64, out_features=6, bias=True)\n",
       "  (dropout): Dropout(p=0.2)\n",
       ")"
      ]
     },
     "execution_count": 349,
     "metadata": {},
     "output_type": "execute_result"
    }
   ],
   "source": [
    "state_dict = torch.load('checkpoint.pth copy')\n",
    "model = FaceClassifier()\n",
    "model.load_state_dict(state_dict)\n",
    "model.eval()"
   ]
  },
  {
   "cell_type": "markdown",
   "metadata": {},
   "source": [
    "### Visualize results"
   ]
  },
  {
   "cell_type": "markdown",
   "metadata": {},
   "source": [
    "Let's run the model with some of the test images and check it's prediction"
   ]
  },
  {
   "cell_type": "code",
   "execution_count": 350,
   "metadata": {},
   "outputs": [
    {
     "data": {
      "image/png": "[encoded data removed]",
      "text/plain": [
       "<Figure size 432x288 with 1 Axes>"
      ]
     },
     "metadata": {
      "needs_background": "light"
     },
     "output_type": "display_data"
    },
    {
     "name": "stdout",
     "output_type": "stream",
     "text": [
      "Predict: happy | 85% | True: happy\n"
     ]
    }
   ],
   "source": [
    "import matplotlib.pyplot as plt\n",
    "\n",
    "classes = ['neutral','happy','surprise','angry','sad','disgust']\n",
    "\n",
    "\n",
    "idx = np.random.randint(len(testset))\n",
    "image, label = testset.__getitem__(idx)\n",
    "image = image.unsqueeze(0)\n",
    "\n",
    "ps = torch.exp(model(image))\n",
    "top_p, top_class = ps.topk(1, dim=1)\n",
    "\n",
    "image = (image+1)/2\n",
    "plt.imshow(np.rollaxis(image.numpy().squeeze(),0,3))\n",
    "plt.show()\n",
    "\n",
    "print(f\"Predict: {classes[top_class.item()]} | {int(top_p.item()*100)}% | True: {classes[label]}\")"
   ]
  },
  {
   "cell_type": "markdown",
   "metadata": {},
   "source": [
    "## Detect faces from default camera"
   ]
  },
  {
   "cell_type": "markdown",
   "metadata": {},
   "source": [
    "Now let's use OpenCV to detect faces from our default camrea stream"
   ]
  },
  {
   "cell_type": "code",
   "execution_count": 351,
   "metadata": {},
   "outputs": [
    {
     "data": {
      "text/plain": [
       "-1"
      ]
     },
     "execution_count": 351,
     "metadata": {},
     "output_type": "execute_result"
    }
   ],
   "source": [
    "import cv2, time, face_recognition\n",
    "from PIL import Image\n",
    "\n",
    "# Create an object. Zero for external camera\n",
    "video = cv2.VideoCapture(0)\n",
    "cv2.startWindowThread()\n",
    "scale = 0.25\n",
    "\n",
    "transform = transforms.Compose([\n",
    "                                transforms.ToTensor(),\n",
    "                                transforms.Normalize((0.5,),(0.5,))\n",
    "                                ])\n",
    "\n",
    "# Start face recognition algorithm\n",
    "face_cascade = cv2.CascadeClassifier('/anaconda3/envs/jupyter/lib/python3.7/site-packages/cv2/data/haarcascade_frontalface_default.xml')\n",
    "while True:\n",
    "    # Create a frame object\n",
    "    check, frame = video.read()\n",
    "\n",
    "\n",
    "    gray = cv2.cvtColor(frame, cv2.COLOR_RGB2GRAY)\n",
    "    \n",
    "    width = int(gray.shape[1]*scale)\n",
    "    height = int(gray.shape[0]*scale)\n",
    "    \n",
    "    small_gray = cv2.resize(gray, (width, height), interpolation=cv2.INTER_AREA)\n",
    "    \n",
    "    # Look for faces\n",
    "    # faces = face_cascade.detectMultiScale(gray, 2, 5)\n",
    "    faces = face_recognition.face_locations(small_gray)\n",
    "    \n",
    "    # Insert face locations in frame\n",
    "    for (top,right,bottom,left) in faces:\n",
    "        # rescale for drawing\n",
    "        top = int(top*(1/scale))\n",
    "        right = int(right*(1/scale))\n",
    "        bottom = int(bottom*(1/scale))\n",
    "        left = int(left*(1/scale))\n",
    "        cv2.rectangle(frame,(left, top), (right, bottom), (255,0,0), 2)\n",
    "        \n",
    "        # Extract faces and predict an emotion\n",
    "        face = gray[top:bottom, left:right]\n",
    "        face = cv2.resize(face, (64,64), interpolation=cv2.INTER_AREA)\n",
    "        # face = np.array([face, face, face])\n",
    "        face = Image.fromarray(face.astype(np.uint8))\n",
    "        face = transform(face)\n",
    "        face = torch.cat((face,)*3, 0)\n",
    "        \n",
    "        with torch.no_grad():\n",
    "            ps = torch.exp(model(face.unsqueeze(0)))\n",
    "            top_p, top_class = ps.topk(1, dim=1)\n",
    "        emotion = classes[top_class]\n",
    "        text = f\"{int(top_p.item()*100)}% | {emotion}\"\n",
    "        \n",
    "        # Draw a label with the emotion predicted\n",
    "        cv2.rectangle(frame, (left, bottom-25), (right, bottom), (255,0,0), cv2.FILLED)\n",
    "        font = cv2.FONT_HERSHEY_DUPLEX\n",
    "        cv2.putText(frame, text, (left + 6, bottom - 6), font, 0.5, (255,255,255), 1)\n",
    "        \n",
    "    cv2.imshow(\"Camera\", frame)\n",
    "\n",
    "    key=cv2.waitKey(1)\n",
    "    \n",
    "    if key == ord('q'):\n",
    "        break\n",
    "\n",
    "    # Shutdown the camera\n",
    "video.release()\n",
    "cv2.waitKey(1)\n",
    "cv2.destroyWindow(\"Camera\")\n",
    "cv2.waitKey(1)"
   ]
  },
  {
   "cell_type": "code",
   "execution_count": null,
   "metadata": {},
   "outputs": [],
   "source": []
  },
  {
   "cell_type": "code",
   "execution_count": null,
   "metadata": {},
   "outputs": [],
   "source": []
  }
 ],
 "metadata": {
  "kernelspec": {
   "display_name": "Python 3",
   "language": "python",
   "name": "python3"
  },
  "language_info": {
   "codemirror_mode": {
    "name": "ipython",
    "version": 3
   },
   "file_extension": ".py",
   "mimetype": "text/x-python",
   "name": "python",
   "nbconvert_exporter": "python",
   "pygments_lexer": "ipython3",
   "version": "3.7.3"
  }
 },
 "nbformat": 4,
 "nbformat_minor": 2
}
